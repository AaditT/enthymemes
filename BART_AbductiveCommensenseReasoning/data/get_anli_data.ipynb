{
 "metadata": {
  "language_info": {
   "codemirror_mode": {
    "name": "ipython",
    "version": 3
   },
   "file_extension": ".py",
   "mimetype": "text/x-python",
   "name": "python",
   "nbconvert_exporter": "python",
   "pygments_lexer": "ipython3",
   "version": "3.9.2-final"
  },
  "orig_nbformat": 2,
  "kernelspec": {
   "name": "python3",
   "display_name": "Python 3.9.2 64-bit",
   "metadata": {
    "interpreter": {
     "hash": "ac2eaa0ea0ebeafcc7822e65e46aa9d4f966f30b695406963e145ea4a91cd4fc"
    }
   }
  }
 },
 "nbformat": 4,
 "nbformat_minor": 2,
 "cells": [
  {
   "cell_type": "code",
   "execution_count": 2,
   "metadata": {},
   "outputs": [],
   "source": [
    "import json_lines"
   ]
  },
  {
   "cell_type": "code",
   "execution_count": 6,
   "metadata": {},
   "outputs": [],
   "source": [
    "with open('train-labels.lst') as f:\n",
    "    content = f.readlines()\n",
    "# you may also want to remove whitespace characters like `\\n` at the end of each line\n",
    "train_labels = [x.strip() for x in content] "
   ]
  },
  {
   "cell_type": "code",
   "execution_count": 7,
   "metadata": {},
   "outputs": [
    {
     "output_type": "execute_result",
     "data": {
      "text/plain": [
       "169654"
      ]
     },
     "metadata": {},
     "execution_count": 7
    }
   ],
   "source": [
    "len(train_labels)"
   ]
  },
  {
   "cell_type": "code",
   "execution_count": 32,
   "metadata": {
    "tags": []
   },
   "outputs": [],
   "source": [
    "train_source = []\n",
    "train_target = []\n",
    "\n",
    "limit_counter = 0\n",
    "with open('train.jsonl', 'rb') as f:\n",
    "    counter = 0\n",
    "    for item in json_lines.reader(f):\n",
    "        # print(item)\n",
    "        reason = item['obs1']\n",
    "        label = 0\n",
    "        if (train_labels[counter] == '1'):\n",
    "            warrant = item['hyp1']\n",
    "            label = 1\n",
    "        else:\n",
    "            warrant = item['hyp2']\n",
    "            label = 2\n",
    "        \n",
    "        claim = item['obs2']\n",
    "\n",
    "        \n",
    "        source_str = reason + \" # \" + claim\n",
    "        target_str = reason + \" And since \" + warrant + \" \" + claim\n",
    "        \"\"\"\n",
    "        if (limit_counter < 50):\n",
    "            \n",
    "            print(\"SOURCE: \" + source_str)\n",
    "            print(\"TARGET: \" + target_str)\n",
    "            print(\"LABEL: \" + str(label))\n",
    "            print(\"\")\n",
    "        \"\"\"\n",
    "        train_source.append(source_str)\n",
    "        train_target.append(target_str)\n",
    "        # print(\"SOURCE: \" + source_str)\n",
    "        # print(\"TARGET: \" + target_str)\n",
    "        counter += 1\n",
    "        limit_counter += 1"
   ]
  },
  {
   "cell_type": "code",
   "execution_count": 33,
   "metadata": {},
   "outputs": [
    {
     "output_type": "stream",
     "name": "stdout",
     "text": [
      "169654 | 169654\n"
     ]
    }
   ],
   "source": [
    "print(str(len(train_source)) + \" | \"  + str(len(train_target)))"
   ]
  },
  {
   "cell_type": "code",
   "execution_count": 36,
   "metadata": {},
   "outputs": [],
   "source": [
    "train_source_file = open(\"train.source\", \"w\")\n",
    "for line in train_source:\n",
    "  train_source_file.write(line)\n",
    "  train_source_file.write(\"\\n\")\n",
    "train_source_file.close()"
   ]
  },
  {
   "cell_type": "code",
   "execution_count": 37,
   "metadata": {},
   "outputs": [],
   "source": [
    "train_target_file = open(\"train.target\", \"w\")\n",
    "for line in train_target:\n",
    "  train_target_file.write(line)\n",
    "  train_target_file.write(\"\\n\")\n",
    "train_target_file.close()"
   ]
  },
  {
   "cell_type": "code",
   "execution_count": 40,
   "metadata": {},
   "outputs": [],
   "source": [
    "with open('test-labels.lst') as f:\n",
    "    content = f.readlines()\n",
    "# you may also want to remove whitespace characters like `\\n` at the end of each line\n",
    "test_labels = [x.strip() for x in content] "
   ]
  },
  {
   "cell_type": "code",
   "execution_count": 39,
   "metadata": {},
   "outputs": [
    {
     "output_type": "execute_result",
     "data": {
      "text/plain": [
       "169654"
      ]
     },
     "metadata": {},
     "execution_count": 39
    }
   ],
   "source": [
    "len(test_labels)"
   ]
  },
  {
   "cell_type": "code",
   "execution_count": null,
   "metadata": {},
   "outputs": [],
   "source": [
    "import json_lines\n",
    "\n",
    "test_source = []\n",
    "test_target = []\n",
    "\n",
    "\n",
    "\n",
    "with open('test.jsonl', 'rb') as f:\n",
    "    counter = 0\n",
    "    for item in json_lines.reader(f):\n",
    "        reason = item['obs1']\n",
    "        \n",
    "        claim = item['obs2']\n",
    "\n",
    "        if (test_labels[counter] == '1'):\n",
    "            warrant = item['hyp1']\n",
    "        else:\n",
    "            warrant = item['hyp2']\n",
    "        # if (counter > 50):\n",
    "        #  break\n",
    "        source_str = reason + \" # \" + claim\n",
    "        target_str = reason + \" And since \" + warrant + \" \" + claim\n",
    "        test_source.append(source_str)\n",
    "        test_target.append(target_str)\n",
    "        # print(\"SOURCE: \" + source_str)\n",
    "        # print(\"TARGET: \" + target_str)\n",
    "        # counter += 1\n",
    "\n",
    "\n",
    "limit_counter = 0\n",
    "with open('train.jsonl', 'rb') as f:\n",
    "    counter = 0\n",
    "    for item in json_lines.reader(f):\n",
    "        # print(item)\n",
    "        reason = item['obs1']\n",
    "        label = 0\n",
    "        if (train_labels[counter] == '1'):\n",
    "            warrant = item['hyp1']\n",
    "            label = 1\n",
    "        else:\n",
    "            warrant = item['hyp2']\n",
    "            label = 2\n",
    "        \n",
    "        claim = item['obs2']\n",
    "\n",
    "        \n",
    "        source_str = reason + \" # \" + claim\n",
    "        target_str = reason + \" And since \" + warrant + \" \" + claim\n",
    "        \"\"\"\n",
    "        if (limit_counter < 50):\n",
    "            \n",
    "            print(\"SOURCE: \" + source_str)\n",
    "            print(\"TARGET: \" + target_str)\n",
    "            print(\"LABEL: \" + str(label))\n",
    "            print(\"\")\n",
    "        \"\"\"\n",
    "        train_source.append(source_str)\n",
    "        train_target.append(target_str)\n",
    "        # print(\"SOURCE: \" + source_str)\n",
    "        # print(\"TARGET: \" + target_str)\n",
    "        counter += 1\n",
    "        limit_counter += 1"
   ]
  }
 ]
}