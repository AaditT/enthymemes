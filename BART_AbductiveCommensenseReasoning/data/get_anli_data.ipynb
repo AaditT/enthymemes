{
 "metadata": {
  "language_info": {
   "codemirror_mode": {
    "name": "ipython",
    "version": 3
   },
   "file_extension": ".py",
   "mimetype": "text/x-python",
   "name": "python",
   "nbconvert_exporter": "python",
   "pygments_lexer": "ipython3",
   "version": "3.9.2-final"
  },
  "orig_nbformat": 2,
  "kernelspec": {
   "name": "python3",
   "display_name": "Python 3.9.2 64-bit",
   "metadata": {
    "interpreter": {
     "hash": "ac2eaa0ea0ebeafcc7822e65e46aa9d4f966f30b695406963e145ea4a91cd4fc"
    }
   }
  }
 },
 "nbformat": 4,
 "nbformat_minor": 2,
 "cells": [
  {
   "cell_type": "code",
   "execution_count": 2,
   "metadata": {},
   "outputs": [],
   "source": [
    "import json_lines"
   ]
  },
  {
   "cell_type": "code",
   "execution_count": 6,
   "metadata": {},
   "outputs": [],
   "source": [
    "with open('train-labels.lst') as f:\n",
    "    content = f.readlines()\n",
    "# you may also want to remove whitespace characters like `\\n` at the end of each line\n",
    "train_labels = [x.strip() for x in content] "
   ]
  },
  {
   "cell_type": "code",
   "execution_count": 7,
   "metadata": {},
   "outputs": [
    {
     "output_type": "execute_result",
     "data": {
      "text/plain": [
       "169654"
      ]
     },
     "metadata": {},
     "execution_count": 7
    }
   ],
   "source": [
    "len(train_labels)"
   ]
  },
  {
   "cell_type": "code",
   "execution_count": 31,
   "metadata": {
    "tags": []
   },
   "outputs": [
    {
     "output_type": "stream",
     "name": "stdout",
     "text": [
      "SOURCE: Chad went to get the wheel alignment measured on his car. # The mechanic provided a working alignment with new body work.\nTARGET: Chad went to get the wheel alignment measured on his car. And since Chad was waiting for his car to be finished. The mechanic provided a working alignment with new body work.\nLABEL: 2\n\nSOURCE: Chad went to get the wheel alignment measured on his car. # The mechanic provided a working alignment with new body work.\nTARGET: Chad went to get the wheel alignment measured on his car. And since Chad's car had all sorts of other problems besides alignment. The mechanic provided a working alignment with new body work.\nLABEL: 1\n\nSOURCE: Chad went to get the wheel alignment measured on his car. # The mechanic provided a working alignment with new body work.\nTARGET: Chad went to get the wheel alignment measured on his car. And since Chad's mechanic said he had major alignment problems. The mechanic provided a working alignment with new body work.\nLABEL: 1\n\nSOURCE: Chad went to get the wheel alignment measured on his car. # The mechanic provided a working alignment with new body work.\nTARGET: Chad went to get the wheel alignment measured on his car. And since He ran into a pole on the way to the mechanic. The mechanic provided a working alignment with new body work.\nLABEL: 1\n\nSOURCE: Chad went to get the wheel alignment measured on his car. # The mechanic provided a working alignment with new body work.\nTARGET: Chad went to get the wheel alignment measured on his car. And since the mechanic told him that he could fix his wheel. The mechanic provided a working alignment with new body work.\nLABEL: 1\n\nSOURCE: Chad loves Barry Bonds. # Chad ensured that he took a picture to remember the event.\nTARGET: Chad loves Barry Bonds. And since Chad went to meet Barry Bonds. Chad ensured that he took a picture to remember the event.\nLABEL: 1\n\nSOURCE: Chad loves Barry Bonds. # Chad ensured that he took a picture to remember the event.\nTARGET: Chad loves Barry Bonds. And since Chad met Barry Bonds. Chad ensured that he took a picture to remember the event.\nLABEL: 2\n\nSOURCE: Chad loves Barry Bonds. # Chad ensured that he took a picture to remember the event.\nTARGET: Chad loves Barry Bonds. And since Chad got to meet Barry Bonds. Chad ensured that he took a picture to remember the event.\nLABEL: 2\n\nSOURCE: Chad loves Barry Bonds. # Chad ensured that he took a picture to remember the event.\nTARGET: Chad loves Barry Bonds. And since Chad met Barry Bonds. Chad ensured that he took a picture to remember the event.\nLABEL: 1\n\nSOURCE: Chad loves Barry Bonds. # Chad ensured that he took a picture to remember the event.\nTARGET: Chad loves Barry Bonds. And since Chad met Barry Bonds. Chad ensured that he took a picture to remember the event.\nLABEL: 2\n\nSOURCE: Chad loves Barry Bonds. # Chad ensured that he took a picture to remember the event.\nTARGET: Chad loves Barry Bonds. And since Chad went to meet Barry Bonds. Chad ensured that he took a picture to remember the event.\nLABEL: 2\n\nSOURCE: Chad loves Barry Bonds. # Chad ensured that he took a picture to remember the event.\nTARGET: Chad loves Barry Bonds. And since Chad got to meet Barry Bonds. Chad ensured that he took a picture to remember the event.\nLABEL: 2\n\nSOURCE: Chad loves Barry Bonds. # Chad ensured that he took a picture to remember the event.\nTARGET: Chad loves Barry Bonds. And since Chad got to meet Barry Bonds. Chad ensured that he took a picture to remember the event.\nLABEL: 2\n\nSOURCE: Chad loves Barry Bonds. # Chad ensured that he took a picture to remember the event.\nTARGET: Chad loves Barry Bonds. And since Chad saw Barry Bonds at Com-icon. Chad ensured that he took a picture to remember the event.\nLABEL: 1\n\nSOURCE: Chad loves Barry Bonds. # Chad ensured that he took a picture to remember the event.\nTARGET: Chad loves Barry Bonds. And since Chad saw Barry Bonds at Com-icon. Chad ensured that he took a picture to remember the event.\nLABEL: 1\n\nSOURCE: Chad loves Barry Bonds. # Chad ensured that he took a picture to remember the event.\nTARGET: Chad loves Barry Bonds. And since Chad saw Barry Bonds at Com-icon. Chad ensured that he took a picture to remember the event.\nLABEL: 2\n\nSOURCE: Chad loves Barry Bonds. # Chad ensured that he took a picture to remember the event.\nTARGET: Chad loves Barry Bonds. And since Chad waited after a game and met Barry. Chad ensured that he took a picture to remember the event.\nLABEL: 1\n\nSOURCE: Chad loves Barry Bonds. # Chad ensured that he took a picture to remember the event.\nTARGET: Chad loves Barry Bonds. And since Chad waited after a game and met Barry. Chad ensured that he took a picture to remember the event.\nLABEL: 1\n\nSOURCE: Chad loves Barry Bonds. # Chad ensured that he took a picture to remember the event.\nTARGET: Chad loves Barry Bonds. And since Chad waited after a game and met Barry. Chad ensured that he took a picture to remember the event.\nLABEL: 1\n\nSOURCE: Chad loves Barry Bonds. # Chad ensured that he took a picture to remember the event.\nTARGET: Chad loves Barry Bonds. And since Chad went to meet Barry Bonds. Chad ensured that he took a picture to remember the event.\nLABEL: 1\n\nSOURCE: Homer bought a gas grill for the summer. # They grilled steak for the first time on the grill.\nTARGET: Homer bought a gas grill for the summer. And since He wanted a steak. They grilled steak for the first time on the grill.\nLABEL: 1\n\nSOURCE: Homer bought a gas grill for the summer. # They grilled steak for the first time on the grill.\nTARGET: Homer bought a gas grill for the summer. And since He was really craving a steak dinner. They grilled steak for the first time on the grill.\nLABEL: 1\n\nSOURCE: Homer bought a gas grill for the summer. # They grilled steak for the first time on the grill.\nTARGET: Homer bought a gas grill for the summer. And since Homer invited his friends over to try it for the first time. They grilled steak for the first time on the grill.\nLABEL: 1\n\nSOURCE: Homer bought a gas grill for the summer. # They grilled steak for the first time on the grill.\nTARGET: Homer bought a gas grill for the summer. And since Homer puts lots of lighter on the grill. They grilled steak for the first time on the grill.\nLABEL: 1\n\nSOURCE: Homer bought a gas grill for the summer. # They grilled steak for the first time on the grill.\nTARGET: Homer bought a gas grill for the summer. And since Homer went to the butcher and asked for the finest meat. They grilled steak for the first time on the grill.\nLABEL: 1\n\nSOURCE: Brenna and I used to be best friends. # We never talked again.\nTARGET: Brenna and I used to be best friends. And since Brenna and I fought over a boy. We never talked again.\nLABEL: 1\n\nSOURCE: Brenna and I used to be best friends. # We never talked again.\nTARGET: Brenna and I used to be best friends. And since Brenna and I fought over a boy. We never talked again.\nLABEL: 1\n\nSOURCE: Brenna and I used to be best friends. # We never talked again.\nTARGET: Brenna and I used to be best friends. And since Brenna and I had a big falling out. We never talked again.\nLABEL: 1\n\nSOURCE: Brenna and I used to be best friends. # We never talked again.\nTARGET: Brenna and I used to be best friends. And since Brenna and I had a big falling out. We never talked again.\nLABEL: 2\n\nSOURCE: Brenna and I used to be best friends. # We never talked again.\nTARGET: Brenna and I used to be best friends. And since Brenna and I had a big falling out. We never talked again.\nLABEL: 1\n\nSOURCE: Brenna and I used to be best friends. # We never talked again.\nTARGET: Brenna and I used to be best friends. And since Brenna and I had a huge disagreement. We never talked again.\nLABEL: 1\n\nSOURCE: Brenna and I used to be best friends. # We never talked again.\nTARGET: Brenna and I used to be best friends. And since Brenna and I had an argement. We never talked again.\nLABEL: 1\n\nSOURCE: Brenna and I used to be best friends. # We never talked again.\nTARGET: Brenna and I used to be best friends. And since Brenna and I had an argement. We never talked again.\nLABEL: 2\n\nSOURCE: Brenna and I used to be best friends. # We never talked again.\nTARGET: Brenna and I used to be best friends. And since Brenna and I had an argement. We never talked again.\nLABEL: 2\n\nSOURCE: Brenna and I used to be best friends. # We never talked again.\nTARGET: Brenna and I used to be best friends. And since Brenna and I had a huge disagreement. We never talked again.\nLABEL: 2\n\nSOURCE: Brenna and I used to be best friends. # We never talked again.\nTARGET: Brenna and I used to be best friends. And since Brenna and I fought over a boy. We never talked again.\nLABEL: 2\n\nSOURCE: Brenna and I used to be best friends. # We never talked again.\nTARGET: Brenna and I used to be best friends. And since Brenna and I had a huge disagreement. We never talked again.\nLABEL: 2\n\nSOURCE: Brenna and I used to be best friends. # We never talked again.\nTARGET: Brenna and I used to be best friends. And since Brenna stole my boyfriend. We never talked again.\nLABEL: 1\n\nSOURCE: Brenna and I used to be best friends. # We never talked again.\nTARGET: Brenna and I used to be best friends. And since Brenna stole my boyfriend. We never talked again.\nLABEL: 1\n\nSOURCE: Brenna and I used to be best friends. # We never talked again.\nTARGET: Brenna and I used to be best friends. And since Brenna stole my boyfriend. We never talked again.\nLABEL: 2\n\nSOURCE: Josh bought a parrot as a pet. # Josh was so excited that he taught his parrot how to say its name!\nTARGET: Josh bought a parrot as a pet. And since Josh realized that the parrot could talk!. Josh was so excited that he taught his parrot how to say its name!\nLABEL: 1\n\nSOURCE: Josh bought a parrot as a pet. # Josh was so excited that he taught his parrot how to say its name!\nTARGET: Josh bought a parrot as a pet. And since Josh realized that the parrot could talk!. Josh was so excited that he taught his parrot how to say its name!\nLABEL: 1\n\nSOURCE: Josh bought a parrot as a pet. # Josh was so excited that he taught his parrot how to say its name!\nTARGET: Josh bought a parrot as a pet. And since Josh realized that the parrot could talk!. Josh was so excited that he taught his parrot how to say its name!\nLABEL: 1\n\nSOURCE: Josh bought a parrot as a pet. # Josh was so excited that he taught his parrot how to say its name!\nTARGET: Josh bought a parrot as a pet. And since Josh spent hours trying to get his parrot to talk. Josh was so excited that he taught his parrot how to say its name!\nLABEL: 1\n\nSOURCE: Josh bought a parrot as a pet. # Josh was so excited that he taught his parrot how to say its name!\nTARGET: Josh bought a parrot as a pet. And since Josh spent hours trying to get his parrot to talk. Josh was so excited that he taught his parrot how to say its name!\nLABEL: 2\n\nSOURCE: Josh bought a parrot as a pet. # Josh was so excited that he taught his parrot how to say its name!\nTARGET: Josh bought a parrot as a pet. And since Josh spent hours trying to get his parrot to talk. Josh was so excited that he taught his parrot how to say its name!\nLABEL: 2\n\nSOURCE: Josh bought a parrot as a pet. # Josh was so excited that he taught his parrot how to say its name!\nTARGET: Josh bought a parrot as a pet. And since Josh started teaching the parrot things. Josh was so excited that he taught his parrot how to say its name!\nLABEL: 2\n\nSOURCE: Josh bought a parrot as a pet. # Josh was so excited that he taught his parrot how to say its name!\nTARGET: Josh bought a parrot as a pet. And since Josh started teaching the parrot things. Josh was so excited that he taught his parrot how to say its name!\nLABEL: 2\n\nSOURCE: Josh bought a parrot as a pet. # Josh was so excited that he taught his parrot how to say its name!\nTARGET: Josh bought a parrot as a pet. And since Josh started teaching the parrot things. Josh was so excited that he taught his parrot how to say its name!\nLABEL: 2\n\nSOURCE: Josh bought a parrot as a pet. # Josh was so excited that he taught his parrot how to say its name!\nTARGET: Josh bought a parrot as a pet. And since The parrot repeated Josh's morning greeting. Josh was so excited that he taught his parrot how to say its name!\nLABEL: 1\n\n"
     ]
    }
   ],
   "source": [
    "train_source = []\n",
    "train_target = []\n",
    "\n",
    "limit_counter = 0\n",
    "with open('train.jsonl', 'rb') as f:\n",
    "    counter = 0\n",
    "    for item in json_lines.reader(f):\n",
    "        # print(item)\n",
    "        reason = item['obs1']\n",
    "        label = 0\n",
    "        if (train_labels[counter] == '1'):\n",
    "            warrant = item['hyp1']\n",
    "            label = 1\n",
    "        else:\n",
    "            warrant = item['hyp2']\n",
    "            label = 2\n",
    "        \n",
    "        claim = item['obs2']\n",
    "\n",
    "        \n",
    "        source_str = reason + \" # \" + claim\n",
    "        target_str = reason + \" And since \" + warrant + \" \" + claim\n",
    "        \"\"\"\n",
    "        if (limit_counter < 50):\n",
    "            \n",
    "            print(\"SOURCE: \" + source_str)\n",
    "            print(\"TARGET: \" + target_str)\n",
    "            print(\"LABEL: \" + str(label))\n",
    "            print(\"\")\n",
    "        \"\"\"\n",
    "        train_source.append(source_str)\n",
    "        train_target.append(target_str)\n",
    "        # print(\"SOURCE: \" + source_str)\n",
    "        # print(\"TARGET: \" + target_str)\n",
    "        counter += 1\n",
    "        limit_counter += 1"
   ]
  },
  {
   "cell_type": "code",
   "execution_count": 11,
   "metadata": {},
   "outputs": [
    {
     "output_type": "stream",
     "name": "stdout",
     "text": [
      "169654 | 169654\n"
     ]
    }
   ],
   "source": [
    "print(str(len(train_source)) + \" | \"  + str(len(train_target)))"
   ]
  },
  {
   "cell_type": "code",
   "execution_count": 13,
   "metadata": {},
   "outputs": [],
   "source": [
    "train_source_file = open(\"train.source\", \"w\")\n",
    "for line in train_source:\n",
    "  train_source_file.write(line)\n",
    "  train_source_file.write(\"\\n\")\n",
    "train_source_file.close()"
   ]
  },
  {
   "cell_type": "code",
   "execution_count": 14,
   "metadata": {},
   "outputs": [],
   "source": [
    "train_target_file = open(\"train.target\", \"w\")\n",
    "for line in train_target:\n",
    "  train_target_file.write(line)\n",
    "  train_target_file.write(\"\\n\")\n",
    "train_target_file.close()"
   ]
  },
  {
   "cell_type": "code",
   "execution_count": null,
   "metadata": {},
   "outputs": [],
   "source": []
  }
 ]
}